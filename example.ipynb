{
 "cells": [
  {
   "cell_type": "markdown",
   "metadata": {},
   "source": [
    "This initializes an instance of the Ising class and defines an animation object"
   ]
  },
  {
   "cell_type": "code",
   "execution_count": null,
   "metadata": {},
   "outputs": [],
   "source": [
    "from ising import Ising, init, animate, update_param\n",
    "import matplotlib.pyplot as plt\n",
    "import matplotlib.animation as animation\n",
    "from IPython.display import HTML\n",
    "\n",
    "ising = Ising( N=100, coupling=0.5, inv_temp = 0.5, batch_size=100,\n",
    "               magnetic_moment=1., magnetic_field=0.)\n",
    "fig, ax, plots = init(ising)\n",
    "\n",
    "\n",
    "N_frames = 2500\n",
    "anim = animation.FuncAnimation(fig, animate, frames=N_frames,                       \n",
    "            interval=10, blit=True, fargs=(plots[0], ising, update_param))\n",
    "\n"
   ]
  },
  {
   "cell_type": "markdown",
   "metadata": {},
   "source": [
    "This visualizes the animation with an embedded video"
   ]
  },
  {
   "cell_type": "code",
   "execution_count": null,
   "metadata": {},
   "outputs": [],
   "source": [
    "HTML(anim.to_html5_video())"
   ]
  },
  {
   "cell_type": "code",
   "execution_count": null,
   "metadata": {},
   "outputs": [],
   "source": []
  }
 ],
 "metadata": {
  "kernelspec": {
   "display_name": "Python 3",
   "language": "python",
   "name": "python3"
  },
  "language_info": {
   "codemirror_mode": {
    "name": "ipython",
    "version": 3
   },
   "file_extension": ".py",
   "mimetype": "text/x-python",
   "name": "python",
   "nbconvert_exporter": "python",
   "pygments_lexer": "ipython3",
   "version": "3.6.10"
  }
 },
 "nbformat": 4,
 "nbformat_minor": 4
}
